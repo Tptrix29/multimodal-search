{
 "cells": [
  {
   "cell_type": "code",
   "execution_count": 14,
   "id": "fc800969",
   "metadata": {},
   "outputs": [],
   "source": [
    "import os\n",
    "from PIL import Image\n",
    "import torch\n",
    "from transformers import CLIPProcessor, CLIPModel\n",
    "import chromadb\n",
    "from chromadb.config import Settings\n",
    "import numpy as np\n",
    "from sklearn.metrics.pairwise import cosine_similarity\n",
    "import numpy as np\n",
    "import shutil\n",
    "import pandas as pd\n"
   ]
  },
  {
   "cell_type": "code",
   "execution_count": 15,
   "id": "7b4cd587",
   "metadata": {},
   "outputs": [
    {
     "data": {
      "text/plain": [
       "CLIPModel(\n",
       "  (text_model): CLIPTextTransformer(\n",
       "    (embeddings): CLIPTextEmbeddings(\n",
       "      (token_embedding): Embedding(49408, 512)\n",
       "      (position_embedding): Embedding(77, 512)\n",
       "    )\n",
       "    (encoder): CLIPEncoder(\n",
       "      (layers): ModuleList(\n",
       "        (0-11): 12 x CLIPEncoderLayer(\n",
       "          (self_attn): CLIPAttention(\n",
       "            (k_proj): Linear(in_features=512, out_features=512, bias=True)\n",
       "            (v_proj): Linear(in_features=512, out_features=512, bias=True)\n",
       "            (q_proj): Linear(in_features=512, out_features=512, bias=True)\n",
       "            (out_proj): Linear(in_features=512, out_features=512, bias=True)\n",
       "          )\n",
       "          (layer_norm1): LayerNorm((512,), eps=1e-05, elementwise_affine=True)\n",
       "          (mlp): CLIPMLP(\n",
       "            (activation_fn): QuickGELUActivation()\n",
       "            (fc1): Linear(in_features=512, out_features=2048, bias=True)\n",
       "            (fc2): Linear(in_features=2048, out_features=512, bias=True)\n",
       "          )\n",
       "          (layer_norm2): LayerNorm((512,), eps=1e-05, elementwise_affine=True)\n",
       "        )\n",
       "      )\n",
       "    )\n",
       "    (final_layer_norm): LayerNorm((512,), eps=1e-05, elementwise_affine=True)\n",
       "  )\n",
       "  (vision_model): CLIPVisionTransformer(\n",
       "    (embeddings): CLIPVisionEmbeddings(\n",
       "      (patch_embedding): Conv2d(3, 768, kernel_size=(32, 32), stride=(32, 32), bias=False)\n",
       "      (position_embedding): Embedding(50, 768)\n",
       "    )\n",
       "    (pre_layrnorm): LayerNorm((768,), eps=1e-05, elementwise_affine=True)\n",
       "    (encoder): CLIPEncoder(\n",
       "      (layers): ModuleList(\n",
       "        (0-11): 12 x CLIPEncoderLayer(\n",
       "          (self_attn): CLIPAttention(\n",
       "            (k_proj): Linear(in_features=768, out_features=768, bias=True)\n",
       "            (v_proj): Linear(in_features=768, out_features=768, bias=True)\n",
       "            (q_proj): Linear(in_features=768, out_features=768, bias=True)\n",
       "            (out_proj): Linear(in_features=768, out_features=768, bias=True)\n",
       "          )\n",
       "          (layer_norm1): LayerNorm((768,), eps=1e-05, elementwise_affine=True)\n",
       "          (mlp): CLIPMLP(\n",
       "            (activation_fn): QuickGELUActivation()\n",
       "            (fc1): Linear(in_features=768, out_features=3072, bias=True)\n",
       "            (fc2): Linear(in_features=3072, out_features=768, bias=True)\n",
       "          )\n",
       "          (layer_norm2): LayerNorm((768,), eps=1e-05, elementwise_affine=True)\n",
       "        )\n",
       "      )\n",
       "    )\n",
       "    (post_layernorm): LayerNorm((768,), eps=1e-05, elementwise_affine=True)\n",
       "  )\n",
       "  (visual_projection): Linear(in_features=768, out_features=512, bias=False)\n",
       "  (text_projection): Linear(in_features=512, out_features=512, bias=False)\n",
       ")"
      ]
     },
     "execution_count": 15,
     "metadata": {},
     "output_type": "execute_result"
    }
   ],
   "source": [
    "# Load model and processor\n",
    "model = CLIPModel.from_pretrained(\"openai/clip-vit-base-patch32\", use_safetensors=True)\n",
    "processor = CLIPProcessor.from_pretrained(\"openai/clip-vit-base-patch32\")\n",
    "model.eval()"
   ]
  },
  {
   "cell_type": "code",
   "execution_count": 16,
   "id": "5fd61149",
   "metadata": {},
   "outputs": [],
   "source": [
    "# Load image and text\n",
    "image = Image.open(\"/Users/christinecym/Desktop/multimodal-search/image/1.jpg\")  # replace with your image path\n",
    "text = \"A Die DIY Kit\"\n",
    "\n",
    "# Preprocess and encode\n",
    "inputs = processor(text=[text], images=image, return_tensors=\"pt\", padding=True)\n",
    "outputs = model(**inputs)\n",
    "\n",
    "# Get embeddings\n",
    "image_embedding = outputs.image_embeds[0].detach().numpy()\n",
    "text_embedding = outputs.text_embeds[0].detach().numpy()"
   ]
  },
  {
   "cell_type": "code",
   "execution_count": 17,
   "id": "371b0d31",
   "metadata": {},
   "outputs": [],
   "source": [
    "def embed_image(image_path):\n",
    "    image = Image.open(image_path).convert(\"RGB\")\n",
    "    inputs = processor(images=image, return_tensors=\"pt\")\n",
    "    with torch.no_grad():\n",
    "        emb = model.get_image_features(**inputs)\n",
    "        emb = emb / emb.norm(p=2, dim=-1, keepdim=True)\n",
    "    return emb.squeeze().cpu().numpy().astype(np.float32).tolist()"
   ]
  },
  {
   "cell_type": "code",
   "execution_count": 18,
   "id": "0c092a78",
   "metadata": {},
   "outputs": [],
   "source": [
    "def embed_text(text):\n",
    "    inputs = processor(text=[text], return_tensors=\"pt\")\n",
    "    with torch.no_grad():\n",
    "        emb = model.get_text_features(**inputs)\n",
    "        emb = emb / emb.norm(p=2, dim=-1, keepdim=True)\n",
    "    return emb.squeeze().cpu().numpy().astype(np.float32).tolist()"
   ]
  },
  {
   "cell_type": "code",
   "execution_count": 19,
   "id": "edcfc291",
   "metadata": {},
   "outputs": [],
   "source": [
    "# # Initialize the vector data embedding\n",
    "# chroma_client = chromadb.Client(Settings(anonymized_telemetry=False))\n",
    "# collection = chroma_client.create_collection(name = 'product_images')\n",
    "\n",
    "# Connect to persistent ChromaDB instance\n",
    "chroma_client = chromadb.Client(Settings(persist_directory=\"chroma_storage\", anonymized_telemetry=False))\n",
    "\n",
    "# Or just delete the whole collection and recreate\n",
    "collection = chroma_client.get_or_create_collection(\"product_images\", embedding_function=None)\n"
   ]
  },
  {
   "cell_type": "code",
   "execution_count": 20,
   "id": "f7f9c362",
   "metadata": {},
   "outputs": [
    {
     "ename": "KeyError",
     "evalue": "'file_name'",
     "output_type": "error",
     "traceback": [
      "\u001b[0;31m---------------------------------------------------------------------------\u001b[0m",
      "\u001b[0;31mKeyError\u001b[0m                                  Traceback (most recent call last)",
      "File \u001b[0;32m~/anaconda3/envs/genius/lib/python3.11/site-packages/pandas/core/indexes/base.py:3805\u001b[0m, in \u001b[0;36mIndex.get_loc\u001b[0;34m(self, key)\u001b[0m\n\u001b[1;32m   3804\u001b[0m \u001b[38;5;28;01mtry\u001b[39;00m:\n\u001b[0;32m-> 3805\u001b[0m     \u001b[38;5;28;01mreturn\u001b[39;00m \u001b[38;5;28mself\u001b[39m\u001b[38;5;241m.\u001b[39m_engine\u001b[38;5;241m.\u001b[39mget_loc(casted_key)\n\u001b[1;32m   3806\u001b[0m \u001b[38;5;28;01mexcept\u001b[39;00m \u001b[38;5;167;01mKeyError\u001b[39;00m \u001b[38;5;28;01mas\u001b[39;00m err:\n",
      "File \u001b[0;32mindex.pyx:167\u001b[0m, in \u001b[0;36mpandas._libs.index.IndexEngine.get_loc\u001b[0;34m()\u001b[0m\n",
      "File \u001b[0;32mindex.pyx:196\u001b[0m, in \u001b[0;36mpandas._libs.index.IndexEngine.get_loc\u001b[0;34m()\u001b[0m\n",
      "File \u001b[0;32mpandas/_libs/hashtable_class_helper.pxi:7081\u001b[0m, in \u001b[0;36mpandas._libs.hashtable.PyObjectHashTable.get_item\u001b[0;34m()\u001b[0m\n",
      "File \u001b[0;32mpandas/_libs/hashtable_class_helper.pxi:7089\u001b[0m, in \u001b[0;36mpandas._libs.hashtable.PyObjectHashTable.get_item\u001b[0;34m()\u001b[0m\n",
      "\u001b[0;31mKeyError\u001b[0m: 'file_name'",
      "\nThe above exception was the direct cause of the following exception:\n",
      "\u001b[0;31mKeyError\u001b[0m                                  Traceback (most recent call last)",
      "Cell \u001b[0;32mIn[20], line 3\u001b[0m\n\u001b[1;32m      1\u001b[0m \u001b[38;5;66;03m# Load metadata\u001b[39;00m\n\u001b[1;32m      2\u001b[0m df \u001b[38;5;241m=\u001b[39m pd\u001b[38;5;241m.\u001b[39mread_csv(\u001b[38;5;124m\"\u001b[39m\u001b[38;5;124m/Users/christinecym/Desktop/multimodal-search/archive/amazon_products.csv\u001b[39m\u001b[38;5;124m\"\u001b[39m)\n\u001b[0;32m----> 3\u001b[0m metadata_lookup \u001b[38;5;241m=\u001b[39m {\n\u001b[1;32m      4\u001b[0m     row[\u001b[38;5;124m\"\u001b[39m\u001b[38;5;124mfile_name\u001b[39m\u001b[38;5;124m\"\u001b[39m]: {\n\u001b[1;32m      5\u001b[0m         \u001b[38;5;124m\"\u001b[39m\u001b[38;5;124mfile_name\u001b[39m\u001b[38;5;124m\"\u001b[39m: row[\u001b[38;5;124m\"\u001b[39m\u001b[38;5;124mfile_name\u001b[39m\u001b[38;5;124m\"\u001b[39m],\n\u001b[1;32m      6\u001b[0m         \u001b[38;5;124m\"\u001b[39m\u001b[38;5;124mproduct_name\u001b[39m\u001b[38;5;124m\"\u001b[39m: row[\u001b[38;5;124m\"\u001b[39m\u001b[38;5;124mproduct_name\u001b[39m\u001b[38;5;124m\"\u001b[39m],\n\u001b[1;32m      7\u001b[0m         \u001b[38;5;124m\"\u001b[39m\u001b[38;5;124mamazon_url\u001b[39m\u001b[38;5;124m\"\u001b[39m: row[\u001b[38;5;124m\"\u001b[39m\u001b[38;5;124mamazon_url\u001b[39m\u001b[38;5;124m\"\u001b[39m]\n\u001b[1;32m      8\u001b[0m     }\n\u001b[1;32m      9\u001b[0m     \u001b[38;5;28;01mfor\u001b[39;00m _, row \u001b[38;5;129;01min\u001b[39;00m df\u001b[38;5;241m.\u001b[39miterrows()\n\u001b[1;32m     10\u001b[0m }\n\u001b[1;32m     12\u001b[0m \u001b[38;5;66;03m# Load and Embed Product Images\u001b[39;00m\n\u001b[1;32m     13\u001b[0m image_path \u001b[38;5;241m=\u001b[39m \u001b[38;5;124m\"\u001b[39m\u001b[38;5;124m/Users/christinecym/Desktop/multimodal-search/image\u001b[39m\u001b[38;5;124m\"\u001b[39m\n",
      "Cell \u001b[0;32mIn[20], line 4\u001b[0m, in \u001b[0;36m<dictcomp>\u001b[0;34m(.0)\u001b[0m\n\u001b[1;32m      1\u001b[0m \u001b[38;5;66;03m# Load metadata\u001b[39;00m\n\u001b[1;32m      2\u001b[0m df \u001b[38;5;241m=\u001b[39m pd\u001b[38;5;241m.\u001b[39mread_csv(\u001b[38;5;124m\"\u001b[39m\u001b[38;5;124m/Users/christinecym/Desktop/multimodal-search/archive/amazon_products.csv\u001b[39m\u001b[38;5;124m\"\u001b[39m)\n\u001b[1;32m      3\u001b[0m metadata_lookup \u001b[38;5;241m=\u001b[39m {\n\u001b[0;32m----> 4\u001b[0m     row[\u001b[38;5;124m\"\u001b[39m\u001b[38;5;124mfile_name\u001b[39m\u001b[38;5;124m\"\u001b[39m]: {\n\u001b[1;32m      5\u001b[0m         \u001b[38;5;124m\"\u001b[39m\u001b[38;5;124mfile_name\u001b[39m\u001b[38;5;124m\"\u001b[39m: row[\u001b[38;5;124m\"\u001b[39m\u001b[38;5;124mfile_name\u001b[39m\u001b[38;5;124m\"\u001b[39m],\n\u001b[1;32m      6\u001b[0m         \u001b[38;5;124m\"\u001b[39m\u001b[38;5;124mproduct_name\u001b[39m\u001b[38;5;124m\"\u001b[39m: row[\u001b[38;5;124m\"\u001b[39m\u001b[38;5;124mproduct_name\u001b[39m\u001b[38;5;124m\"\u001b[39m],\n\u001b[1;32m      7\u001b[0m         \u001b[38;5;124m\"\u001b[39m\u001b[38;5;124mamazon_url\u001b[39m\u001b[38;5;124m\"\u001b[39m: row[\u001b[38;5;124m\"\u001b[39m\u001b[38;5;124mamazon_url\u001b[39m\u001b[38;5;124m\"\u001b[39m]\n\u001b[1;32m      8\u001b[0m     }\n\u001b[1;32m      9\u001b[0m     \u001b[38;5;28;01mfor\u001b[39;00m _, row \u001b[38;5;129;01min\u001b[39;00m df\u001b[38;5;241m.\u001b[39miterrows()\n\u001b[1;32m     10\u001b[0m }\n\u001b[1;32m     12\u001b[0m \u001b[38;5;66;03m# Load and Embed Product Images\u001b[39;00m\n\u001b[1;32m     13\u001b[0m image_path \u001b[38;5;241m=\u001b[39m \u001b[38;5;124m\"\u001b[39m\u001b[38;5;124m/Users/christinecym/Desktop/multimodal-search/image\u001b[39m\u001b[38;5;124m\"\u001b[39m\n",
      "File \u001b[0;32m~/anaconda3/envs/genius/lib/python3.11/site-packages/pandas/core/series.py:1121\u001b[0m, in \u001b[0;36mSeries.__getitem__\u001b[0;34m(self, key)\u001b[0m\n\u001b[1;32m   1118\u001b[0m     \u001b[38;5;28;01mreturn\u001b[39;00m \u001b[38;5;28mself\u001b[39m\u001b[38;5;241m.\u001b[39m_values[key]\n\u001b[1;32m   1120\u001b[0m \u001b[38;5;28;01melif\u001b[39;00m key_is_scalar:\n\u001b[0;32m-> 1121\u001b[0m     \u001b[38;5;28;01mreturn\u001b[39;00m \u001b[38;5;28mself\u001b[39m\u001b[38;5;241m.\u001b[39m_get_value(key)\n\u001b[1;32m   1123\u001b[0m \u001b[38;5;66;03m# Convert generator to list before going through hashable part\u001b[39;00m\n\u001b[1;32m   1124\u001b[0m \u001b[38;5;66;03m# (We will iterate through the generator there to check for slices)\u001b[39;00m\n\u001b[1;32m   1125\u001b[0m \u001b[38;5;28;01mif\u001b[39;00m is_iterator(key):\n",
      "File \u001b[0;32m~/anaconda3/envs/genius/lib/python3.11/site-packages/pandas/core/series.py:1237\u001b[0m, in \u001b[0;36mSeries._get_value\u001b[0;34m(self, label, takeable)\u001b[0m\n\u001b[1;32m   1234\u001b[0m     \u001b[38;5;28;01mreturn\u001b[39;00m \u001b[38;5;28mself\u001b[39m\u001b[38;5;241m.\u001b[39m_values[label]\n\u001b[1;32m   1236\u001b[0m \u001b[38;5;66;03m# Similar to Index.get_value, but we do not fall back to positional\u001b[39;00m\n\u001b[0;32m-> 1237\u001b[0m loc \u001b[38;5;241m=\u001b[39m \u001b[38;5;28mself\u001b[39m\u001b[38;5;241m.\u001b[39mindex\u001b[38;5;241m.\u001b[39mget_loc(label)\n\u001b[1;32m   1239\u001b[0m \u001b[38;5;28;01mif\u001b[39;00m is_integer(loc):\n\u001b[1;32m   1240\u001b[0m     \u001b[38;5;28;01mreturn\u001b[39;00m \u001b[38;5;28mself\u001b[39m\u001b[38;5;241m.\u001b[39m_values[loc]\n",
      "File \u001b[0;32m~/anaconda3/envs/genius/lib/python3.11/site-packages/pandas/core/indexes/base.py:3812\u001b[0m, in \u001b[0;36mIndex.get_loc\u001b[0;34m(self, key)\u001b[0m\n\u001b[1;32m   3807\u001b[0m     \u001b[38;5;28;01mif\u001b[39;00m \u001b[38;5;28misinstance\u001b[39m(casted_key, \u001b[38;5;28mslice\u001b[39m) \u001b[38;5;129;01mor\u001b[39;00m (\n\u001b[1;32m   3808\u001b[0m         \u001b[38;5;28misinstance\u001b[39m(casted_key, abc\u001b[38;5;241m.\u001b[39mIterable)\n\u001b[1;32m   3809\u001b[0m         \u001b[38;5;129;01mand\u001b[39;00m \u001b[38;5;28many\u001b[39m(\u001b[38;5;28misinstance\u001b[39m(x, \u001b[38;5;28mslice\u001b[39m) \u001b[38;5;28;01mfor\u001b[39;00m x \u001b[38;5;129;01min\u001b[39;00m casted_key)\n\u001b[1;32m   3810\u001b[0m     ):\n\u001b[1;32m   3811\u001b[0m         \u001b[38;5;28;01mraise\u001b[39;00m InvalidIndexError(key)\n\u001b[0;32m-> 3812\u001b[0m     \u001b[38;5;28;01mraise\u001b[39;00m \u001b[38;5;167;01mKeyError\u001b[39;00m(key) \u001b[38;5;28;01mfrom\u001b[39;00m \u001b[38;5;21;01merr\u001b[39;00m\n\u001b[1;32m   3813\u001b[0m \u001b[38;5;28;01mexcept\u001b[39;00m \u001b[38;5;167;01mTypeError\u001b[39;00m:\n\u001b[1;32m   3814\u001b[0m     \u001b[38;5;66;03m# If we have a listlike key, _check_indexing_error will raise\u001b[39;00m\n\u001b[1;32m   3815\u001b[0m     \u001b[38;5;66;03m#  InvalidIndexError. Otherwise we fall through and re-raise\u001b[39;00m\n\u001b[1;32m   3816\u001b[0m     \u001b[38;5;66;03m#  the TypeError.\u001b[39;00m\n\u001b[1;32m   3817\u001b[0m     \u001b[38;5;28mself\u001b[39m\u001b[38;5;241m.\u001b[39m_check_indexing_error(key)\n",
      "\u001b[0;31mKeyError\u001b[0m: 'file_name'"
     ]
    }
   ],
   "source": [
    "# Load metadata\n",
    "df = pd.read_csv(\"/Users/christinecym/Desktop/multimodal-search/archive/amazon_products.csv\")\n",
    "metadata_lookup = {\n",
    "    row[\"file_name\"]: {\n",
    "        \"file_name\": row[\"file_name\"],\n",
    "        \"product_name\": row[\"product_name\"],\n",
    "        \"amazon_url\": row[\"amazon_url\"]\n",
    "    }\n",
    "    for _, row in df.iterrows()\n",
    "}\n",
    "\n",
    "# Load and Embed Product Images\n",
    "image_path = \"/Users/christinecym/Desktop/multimodal-search/image\"\n",
    "image_num = 0\n",
    "for file in os.listdir(image_path):\n",
    "    if file.lower().endswith(('.jpg', '.jpeg', '.png')):\n",
    "        path = os.path.join(image_path, file)\n",
    "        image_id = os.path.splitext(file)[0]\n",
    "        embedding = embed_image(path)\n",
    "\n",
    "        meta = metadata_lookup.get(file, {\"file_name\": file, \"amazon_url\": \"#\", \"product_name\": \"Unknown Product\"})\n",
    "\n",
    "        collection.add(\n",
    "            ids=[image_id],\n",
    "            embeddings=[embedding],\n",
    "            metadatas=[meta]\n",
    "        )\n",
    "\n",
    "        image_num += 1\n",
    "        print(f\"Embedding stored for: {file}\")\n",
    "        \n",
    "print(f\"\\n Total images processed: {image_num}\")\n",
    "\n"
   ]
  },
  {
   "cell_type": "code",
   "execution_count": 10,
   "id": "7ffde5d4",
   "metadata": {},
   "outputs": [],
   "source": [
    "# Retriever\n",
    "def retrieve_similar_products(query_text, top_k = 1):\n",
    "    \n",
    "    print(f\"\\n Encoding query: '{query_text}\")\n",
    "    \n",
    "    query_vector = embed_text(query_text)\n",
    "    print(f\"\\n Query encoded. Searching database...\")\n",
    "    \n",
    "    results = collection.query(\n",
    "        query_embeddings=[query_vector],\n",
    "        n_results=top_k,\n",
    "        include=[\"embeddings\", \"metadatas\"] \n",
    "    )\n",
    "    \n",
    "    print(\"Top results retreived.\")\n",
    "    return results"
   ]
  },
  {
   "cell_type": "code",
   "execution_count": 11,
   "id": "bc0e2e04",
   "metadata": {},
   "outputs": [],
   "source": [
    "# Calculate cosine similarity\n",
    "def cosine_similarity(a, b):\n",
    "    return torch.nn.functional.cosine_similarity(\n",
    "        torch.tensor(a), torch.tensor(b), dim=0\n",
    "    ).item()"
   ]
  },
  {
   "cell_type": "code",
   "execution_count": 12,
   "id": "1a5cd58b",
   "metadata": {},
   "outputs": [
    {
     "name": "stdout",
     "output_type": "stream",
     "text": [
      "\n",
      " Encoding query: 'dye kit\n",
      "\n",
      " Query encoded. Searching database...\n",
      "Top results retreived.\n",
      "IDs: ['8', '9', '14', '15', '17', '16', '12', '13', '11', '10', '20', '18', '19', '4', '5', '7', '6', '2', '3', '1', 'text_dye_kit']\n",
      "Metadata: [{'file_name': '8.jpg'}, {'file_name': '9.jpg'}, {'file_name': '14.jpg'}, {'file_name': '15.jpg'}, {'file_name': '17.jpg'}, {'file_name': '16.jpg'}, {'file_name': '12.jpg'}, {'file_name': '13.jpg'}, {'file_name': '11.jpg'}, {'file_name': '10.jpg'}, {'file_name': '20.jpg'}, {'file_name': '18.jpg'}, {'file_name': '19.jpg'}, {'file_name': '4.jpg'}, {'file_name': '5.jpg'}, {'file_name': '7.jpg'}, {'file_name': '6.jpg'}, {'file_name': '2.jpg'}, {'file_name': '3.jpg'}, {'file_name': '1.jpg'}, {'type': 'text', 'query': 'dye kit'}]\n",
      "Embeddings: [[ 0.03759085  0.02897384 -0.01279535 ...  0.0330596  -0.09382622\n",
      "  -0.02085317]\n",
      " [-0.03361781 -0.02324725  0.02442953 ...  0.08871351 -0.01979954\n",
      "   0.03376737]\n",
      " [ 0.01341182  0.01927202 -0.05148533 ...  0.05106765  0.02347104\n",
      "   0.03160624]\n",
      " ...\n",
      " [ 0.01042377 -0.10089818  0.01347399 ...  0.04050251 -0.02333858\n",
      "   0.01139236]\n",
      " [-0.05426417 -0.01303758  0.03721839 ...  0.00117062  0.0183773\n",
      "  -0.00756486]\n",
      " [-0.02938419  0.02206407  0.02315367 ... -0.03500429 -0.02401383\n",
      "  -0.02218887]]\n"
     ]
    }
   ],
   "source": [
    "# Run text query\n",
    "query = \"dye kit\"\n",
    "results = retrieve_similar_products(query)\n",
    "query_vec = embed_text(query)\n",
    "\n",
    "\n",
    "# Filter out only image-type results\n",
    "image_results = [\n",
    "    (meta, emb) for meta, emb in zip(results[\"metadatas\"][0], results[\"embeddings\"][0])\n",
    "    if meta and (\n",
    "        meta.get(\"type\") == \"image\" or meta.get(\"file_name\", \"\").lower().endswith(('.jpg', '.jpeg', '.png'))\n",
    "    )\n",
    "]\n",
    "\n",
    "\n",
    "\n",
    "if not image_results:\n",
    "    print(\" No image results found.\")\n",
    "else:\n",
    "    meta, top_result_embedding = image_results[0]\n",
    "    file_name = meta.get(\"file_name\", \"unknown.jpg\")\n",
    "\n",
    "    # Create IDs\n",
    "    text_id = f\"text_{query.replace(' ', '_')}\"\n",
    "    image_id = f\"image_{os.path.splitext(file_name)[0]}\"\n",
    "\n",
    "    # Save to ChromaDB\n",
    "    assert isinstance(query_vec, list), \"Text embedding must be a list\"\n",
    "    collection.add(\n",
    "        ids=[text_id],\n",
    "        embeddings=[query_vec],\n",
    "        metadatas=[{\"type\": \"text\", \"query\": query}]\n",
    "    )\n",
    "\n",
    "\n",
    "all_items = collection.get(include=[\"embeddings\", \"metadatas\"])\n",
    "\n",
    "print(\"IDs:\", all_items[\"ids\"])\n",
    "print(\"Metadata:\", all_items[\"metadatas\"])\n",
    "print(\"Embeddings:\", all_items[\"embeddings\"])\n",
    "\n",
    "\n",
    "\n",
    "\n",
    "\n"
   ]
  },
  {
   "cell_type": "code",
   "execution_count": null,
   "id": "97c5ca97",
   "metadata": {},
   "outputs": [],
   "source": []
  },
  {
   "cell_type": "code",
   "execution_count": 12,
   "id": "0fb8dac2",
   "metadata": {},
   "outputs": [
    {
     "name": "stdout",
     "output_type": "stream",
     "text": [
      "Cosine similarity between image and text: 0.2236\n"
     ]
    }
   ],
   "source": [
    "# Calculate cosine similarity\n",
    "def cosine_similarity(a, b):\n",
    "    return torch.nn.functional.cosine_similarity(\n",
    "        torch.tensor(a), torch.tensor(b), dim=0\n",
    "    ).item()\n",
    "\n",
    "similarity = cosine_similarity(image_embedding, text_embedding)\n",
    "print(f\"Cosine similarity between image and text: {similarity:.4f}\")"
   ]
  },
  {
   "cell_type": "code",
   "execution_count": null,
   "id": "b8cabf49",
   "metadata": {},
   "outputs": [],
   "source": [
    "import chromadb\n",
    "from chromadb.utils import embedding_functions\n",
    "\n",
    "# Create a ChromaDB client and collection\n",
    "client = chromadb.Client()\n",
    "collection = client.create_collection(name=\"clip_embeddings\")\n",
    "\n",
    "# Optionally define a custom embedding function (not needed here, we use precomputed)\n",
    "# Insert items\n",
    "collection.add(\n",
    "    documents=[\"A photo of a cat\"],\n",
    "    embeddings=[text_embedding.tolist()],  # convert numpy array to list\n",
    "    ids=[\"text1\"]\n",
    ")\n",
    "\n",
    "collection.add(\n",
    "    documents=[\"example.jpg\"],  # you can use the filename or any identifier\n",
    "    embeddings=[image_embedding.tolist()],\n",
    "    ids=[\"image1\"]\n",
    ")"
   ]
  },
  {
   "cell_type": "code",
   "execution_count": null,
   "id": "8a203e04",
   "metadata": {},
   "outputs": [
    {
     "name": "stdout",
     "output_type": "stream",
     "text": [
      "{'ids': [['text1', 'image1']], 'embeddings': None, 'documents': [['A photo of a cat', 'example.jpg']], 'uris': None, 'included': ['metadatas', 'documents', 'distances'], 'data': None, 'metadatas': [[None, None]], 'distances': [[0.0, 1.4534668922424316]]}\n"
     ]
    }
   ],
   "source": [
    "# Query similar embeddings\n",
    "results = collection.query(\n",
    "    query_embeddings=[text_embedding.tolist()],\n",
    "    n_results=3\n",
    ")\n",
    "\n",
    "print(results)"
   ]
  },
  {
   "cell_type": "code",
   "execution_count": null,
   "id": "42be9c02",
   "metadata": {},
   "outputs": [],
   "source": []
  }
 ],
 "metadata": {
  "kernelspec": {
   "display_name": "genius",
   "language": "python",
   "name": "python3"
  },
  "language_info": {
   "codemirror_mode": {
    "name": "ipython",
    "version": 3
   },
   "file_extension": ".py",
   "mimetype": "text/x-python",
   "name": "python",
   "nbconvert_exporter": "python",
   "pygments_lexer": "ipython3",
   "version": "3.11.10"
  }
 },
 "nbformat": 4,
 "nbformat_minor": 5
}
